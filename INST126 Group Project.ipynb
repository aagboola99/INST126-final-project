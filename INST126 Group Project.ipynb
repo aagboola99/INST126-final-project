{
 "cells": [
  {
   "cell_type": "markdown",
   "metadata": {},
   "source": [
    "Project Name: Best Time to Bike based on weather conditions \n",
    "\n",
    "Group Members: Sanmi A., Haider A., Justine G., Gabrielle A., Alice A."
   ]
  },
  {
   "cell_type": "code",
   "execution_count": 3,
   "metadata": {},
   "outputs": [
    {
     "name": "stdout",
     "output_type": "stream",
     "text": [
      "Populating the interactive namespace from numpy and matplotlib\n"
     ]
    }
   ],
   "source": [
    "import pandas as pd\n",
    "import numpy as np\n",
    "import matplotlib.pyplot as plt\n",
    "%pylab inline"
   ]
  },
  {
   "cell_type": "code",
   "execution_count": 4,
   "metadata": {},
   "outputs": [],
   "source": [
    "data_tt = pd.read_csv('data1.csv')"
   ]
  },
  {
   "cell_type": "code",
   "execution_count": 5,
   "metadata": {},
   "outputs": [],
   "source": [
    "# Alice seperated the time by month, day, and hour\n",
    "data_tt['month'] = pd.DatetimeIndex(data_tt.datetime).month\n",
    "data_tt['day'] = pd.DatetimeIndex(data_tt.datetime).dayofweek\n",
    "data_tt['hour'] = pd.DatetimeIndex(data_tt.datetime).hour"
   ]
  },
  {
   "cell_type": "code",
   "execution_count": 6,
   "metadata": {},
   "outputs": [],
   "source": [
    "# Alice seperate the data by month\n",
    "Jan = data_tt.loc[data_tt['month'] == 1]\n",
    "Feb = data_tt.loc[data_tt['month'] == 2]\n",
    "Mar = data_tt.loc[data_tt['month'] == 3]\n",
    "Apr = data_tt.loc[data_tt['month'] == 4]\n",
    "May = data_tt.loc[data_tt['month'] == 5]\n",
    "Jun = data_tt.loc[data_tt['month'] == 6]\n",
    "Jul = data_tt.loc[data_tt['month'] == 7]\n",
    "Aug = data_tt.loc[data_tt['month'] == 8]\n",
    "Sep = data_tt.loc[data_tt['month'] == 9]\n",
    "Oct = data_tt.loc[data_tt['month'] == 10]\n",
    "Nov = data_tt.loc[data_tt['month'] == 11]\n",
    "Dec = data_tt.loc[data_tt['month'] == 12]"
   ]
  },
  {
   "cell_type": "code",
   "execution_count": 18,
   "metadata": {},
   "outputs": [
    {
     "name": "stdout",
     "output_type": "stream",
     "text": [
      "What month would you like to ride your bike?: December\n"
     ]
    },
    {
     "data": {
      "image/png": "[encoded data removed]",
      "text/plain": [
       "<Figure size 432x288 with 1 Axes>"
      ]
     },
     "metadata": {},
     "output_type": "display_data"
    },
    {
     "name": "stdout",
     "output_type": "stream",
     "text": [
      "Based on this month:\n",
      "Enter a date: ('dd/mm' format) 12/04\n",
      "The temperature on 12/04 /2019 is predicted to be: 16.54 celcius'\n",
      "The feel like tempurature on  12/04 /2019 is predicted to be: 20.45 celcius'\n",
      "The humidity on 12/04 /2019 is predicted to be: 75.48 percent'\n",
      "The windspeed on 12/04 /2019 is predicted to be: 8.65 mph \n",
      "'\n",
      "Based on Tempurature:\n",
      "Looks like a good day to ride your bike.\n"
     ]
    }
   ],
   "source": [
    "#somewhere in between there will be code that will \n",
    "#use these variables to pull up the data according \n",
    "#to the user input\n",
    "\n",
    "#Justine and Sanmi worked on the input code for each month and how to extract it from the dataset\n",
    "while True:\n",
    "    month = input(\"What month would you like to ride your bike?: \") \n",
    "    monthlower = month.lower()\n",
    "    if monthlower == \"january\":\n",
    "        monthlower = Jan[['day','temp']]\n",
    "        break\n",
    "    elif monthlower == \"february\":\n",
    "        monthlower = Feb[['day','temp']]\n",
    "        break\n",
    "    elif monthlower == \"march\":\n",
    "        monthlower = Mar[['day','temp']]\n",
    "        break\n",
    "    elif monthlower == \"april\":\n",
    "        monthlower = Apr[['day','temp']]\n",
    "        break\n",
    "    elif monthlower == \"may\":\n",
    "        monthlower = May[['day','temp']]\n",
    "        break\n",
    "    elif monthlower == \"june\":\n",
    "        monthlower = Jun[['day','temp']]\n",
    "        break\n",
    "    elif monthlower == \"july\":\n",
    "        monthlower = Jul[['day','temp']]\n",
    "        break\n",
    "    elif monthlower == \"august\":\n",
    "        monthlower = Aug[['day','temp']]\n",
    "        break\n",
    "    elif monthlower == \"september\":\n",
    "        monthlower = Sep[['day','temp']]\n",
    "        break\n",
    "    elif monthlower == \"october\":\n",
    "        monthlower = Oct[['day','temp']]\n",
    "        break\n",
    "    elif monthlower == \"november\":\n",
    "        monthlower = Nov[['day','temp']]\n",
    "        break\n",
    "    elif monthlower == \"december\":\n",
    "        monthlower = Dec[['day','temp']]\n",
    "        break\n",
    "    else:\n",
    "        print(\"Please enter a month\")\n",
    "        continue\n",
    "        \n",
    "#Alice created the plot the user would see based on the day of the month and temperature\n",
    "boxplot = monthlower.boxplot(by='day')\n",
    "plt.title('Temperature by Day')\n",
    "plt.xticks(np.arange(8),('0','Sun','Mon','Tues','Wed','Thu','Fri','Sat'))\n",
    "plt.suptitle('')\n",
    "plt.show()\n",
    "\n",
    "# Haider asked the user what day they want to see and extrated the humidity, temp, windspeed, and feels-like temp\n",
    "print('Based on this month:')\n",
    "input1 = input(\"Enter a date: ('dd/mm' format) \")\n",
    "at=data_tt[data_tt['datetime'].str.contains(input1)]\n",
    "af=pd.DataFrame(at)\n",
    "avghu=af['humidity'].mean()\n",
    "avgtemp=af[\"temp\"].mean()\n",
    "avgwind=af[\"windspeed\"].mean()\n",
    "avgatemp=af[\"atemp\"].mean()\n",
    "print(\"The temperature on\", input1 ,\"/2019 is predicted to be: %0.2f celcius'\" %(avgtemp, ))\n",
    "print(\"The feel like tempurature on \", input1 ,\"/2019 is predicted to be: %0.2f celcius'\" %(avgatemp, ))\n",
    "print(\"The humidity on\", input1 ,\"/2019 is predicted to be: %0.2f percent'\" %(avghu, ))\n",
    "print(\"The windspeed on\", input1 ,\"/2019 is predicted to be: %0.2f mph \\n'\"%(avgwind, ))\n",
    "\n",
    "# Gabbi wrote conditions to let the user know if the day is good to ride their bike based on the day they inputted\n",
    "print('Based on Tempurature:')\n",
    "if avgtemp > 27:\n",
    "    print('Looks like a hot day to ride your bike.')\n",
    "elif avgtemp < 27:\n",
    "    print('Looks like a good day to ride your bike.')\n",
    "elif avgtemp < 16:\n",
    "    print('Looks like a cool day to ride your bike.')\n",
    "elif avgtemp < 7:\n",
    "    print('Looks like a cold day to ride your bike.')"
   ]
  },
  {
   "cell_type": "code",
   "execution_count": null,
   "metadata": {},
   "outputs": [],
   "source": [
    "None"
   ]
  },
  {
   "cell_type": "code",
   "execution_count": null,
   "metadata": {},
   "outputs": [],
   "source": [
    "#df = Jan[['hour','count']]\n",
    "#boxplot = df.boxplot(by='hour')\n",
    "#plt.title('Temperature by Hour')\n",
    "#plt.suptitle('')\n",
    "#plt.show()"
   ]
  },
  {
   "cell_type": "code",
   "execution_count": null,
   "metadata": {},
   "outputs": [],
   "source": [
    "None"
   ]
  },
  {
   "cell_type": "code",
   "execution_count": null,
   "metadata": {},
   "outputs": [],
   "source": [
    "#input1 = input()\n",
    "#at=data_tt[data_tt['datetime'].str.contains(input1)]\n",
    "#af=pd.DataFrame(at)\n",
    "#at[['hour','temp']]\n",
    "#boxplot = df.boxplot(by='hour')\n",
    "#plt.title('Temperature by Hour')\n",
    "#plt.suptitle('')\n",
    "#plt.show()"
   ]
  },
  {
   "cell_type": "code",
   "execution_count": null,
   "metadata": {},
   "outputs": [],
   "source": [
    "#input1 = input()\n",
    "#at=pd.DataFrame(Jan['datetime'].str.contains(input1))\n",
    "#at"
   ]
  },
  {
   "cell_type": "code",
   "execution_count": null,
   "metadata": {},
   "outputs": [],
   "source": [
    "#input1 = input()\n",
    "#at=pd.DataFrame(Jan['datetime'].str.contains(input1))\n",
    "#at\n",
    "#avghu=at[\"humidity\"].mean()\n",
    "#avgtemp=at[\"temp\"].mean()\n",
    "#avgwind=at[\"windspeed\"].mean()\n",
    "#avgatemp=at[\"atemp\"].mean()\n",
    "#print(\"average temperature on \", input1 ,\"/2019 is predicted to be: \", avgtemp)\n",
    "#print(\"average temperature as felt by people  on \", input1 ,\"/2019 is predicted to be: \", avgatemp)\n",
    "#print(\"average humidity on \", input1 ,\"/2019 is predicted to be: \", avghu)\n",
    "#print(\"average windspeed on \", input1 ,\"/2019 is predicted to be: \", avgwind)"
   ]
  },
  {
   "cell_type": "code",
   "execution_count": null,
   "metadata": {},
   "outputs": [],
   "source": []
  }
 ],
 "metadata": {
  "kernelspec": {
   "display_name": "Python 3",
   "language": "python",
   "name": "python3"
  },
  "language_info": {
   "codemirror_mode": {
    "name": "ipython",
    "version": 3
   },
   "file_extension": ".py",
   "mimetype": "text/x-python",
   "name": "python",
   "nbconvert_exporter": "python",
   "pygments_lexer": "ipython3",
   "version": "3.6.5"
  }
 },
 "nbformat": 4,
 "nbformat_minor": 2
}
